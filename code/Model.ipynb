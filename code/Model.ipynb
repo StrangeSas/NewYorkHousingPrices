{
 "cells": [
  {
   "cell_type": "code",
   "execution_count": null,
   "id": "1e8fd54d-8e82-494b-ac48-f10fec9c3b66",
   "metadata": {},
   "outputs": [],
   "source": [
    "\"\"\"\n",
    "Модель из себя будет представлять 5 разных моделей, к которым через апишку будут обращаться с нужными данными для вычесления их штук.\n",
    "\n",
    "Берём данные \n",
    "Берём модели, которые и после будем использовать для линейных проблем(10)\n",
    "Треним модели под разные задачи\n",
    "Пакуем готовые модели\n",
    "Кидаем в апи.\n",
    "\"\"\"\n"
   ]
  }
 ],
 "metadata": {
  "kernelspec": {
   "display_name": "Python 3 (ipykernel)",
   "language": "python",
   "name": "python3"
  },
  "language_info": {
   "codemirror_mode": {
    "name": "ipython",
    "version": 3
   },
   "file_extension": ".py",
   "mimetype": "text/x-python",
   "name": "python",
   "nbconvert_exporter": "python",
   "pygments_lexer": "ipython3",
   "version": "3.11.5"
  }
 },
 "nbformat": 4,
 "nbformat_minor": 5
}
